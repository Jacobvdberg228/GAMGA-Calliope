{
 "cells": [
  {
   "cell_type": "code",
   "execution_count": 2,
   "metadata": {},
   "outputs": [],
   "source": [
    "import pandas as pd\n",
    "import xarray as xr\n",
    "import numpy as np\n",
    "import copy\n",
    "import math\n",
    "import random\n",
    "import warnings\n",
    "import matplotlib.pyplot as plt\n",
    "\n",
    "import calliope\n",
    "from calliope.exceptions import ModelWarning\n",
    "\n",
    "calliope.set_log_verbosity(verbosity='critical', include_solver_output=False, capture_warnings=False)\n",
    "\n",
    "# Suppress the specific ModelWarning from Calliope\n",
    "warnings.filterwarnings(\"ignore\", category=ModelWarning)\n",
    "\n",
    "from deap import base\n",
    "from deap import creator\n",
    "from deap import tools"
   ]
  },
  {
   "cell_type": "code",
   "execution_count": 4,
   "metadata": {},
   "outputs": [
    {
     "name": "stdout",
     "output_type": "stream",
     "text": [
      "29759791.727324426\n",
      "loc_techs\n",
      "region1::ccgt         5000.000000\n",
      "region1::solarPV1        0.000027\n",
      "region1::battery1        0.000276\n",
      "region2::battery2     2355.664275\n",
      "region2::solarPV2    10321.864197\n",
      "dtype: float64\n"
     ]
    }
   ],
   "source": [
    "model = calliope.Model(\"C:/Users/Jacob/Desktop/PythonProjects/GAMGA-Calliope v3.9/GAMGA_model/model_14D.yaml\")\n",
    "\n",
    "model.run()\n",
    "\n",
    "df_total_cost = model.results.cost.to_series().dropna()\n",
    "total_cost_optimal = df_total_cost.loc[~df_total_cost.index.map(str).str.contains('co2_emissions')].sum()\n",
    "\n",
    "print(total_cost_optimal)\n",
    "\n",
    "energy_cap_df = model.results.energy_cap.to_pandas()\n",
    "filtered_energy_cap_df = energy_cap_df[~energy_cap_df.index.str.contains(\"demand|transmission\")]\n",
    "\n",
    "print(filtered_energy_cap_df)\n"
   ]
  },
  {
   "cell_type": "code",
   "execution_count": 8,
   "metadata": {},
   "outputs": [
    {
     "name": "stdout",
     "output_type": "stream",
     "text": [
      "31968422.012815084\n",
      "loc_techs\n",
      "region1::ccgt         4999.999999\n",
      "region1::solarPV1     1797.625891\n",
      "region1::battery1        0.000777\n",
      "region2::battery2     4636.735890\n",
      "region2::solarPV2    11079.677565\n",
      "dtype: float64\n"
     ]
    }
   ],
   "source": [
    "#create the model with a resolution of 6 hours\n",
    "model_6H = calliope.Model('C:/Users/Jacob/Desktop/PythonProjects/GAMGA-Calliope v3.9/GAMGA_model/model_6H.yaml')\n",
    "\n",
    "model_6H.run()\n",
    "\n",
    "df_total_cost_6H = model_6H.results.cost.to_series().dropna()\n",
    "total_cost_optimal_6H = df_total_cost_6H.loc[~df_total_cost_6H.index.map(str).str.contains('co2_emissions')].sum()\n",
    "\n",
    "print(total_cost_optimal_6H)\n",
    "\n",
    "energy_cap_df_6H = model_6H.results.energy_cap.to_pandas()\n",
    "filtered_energy_cap_df_6H = energy_cap_df_6H[~energy_cap_df_6H.index.str.contains(\"demand|transmission\")]\n",
    "\n",
    "print(filtered_energy_cap_df_6H)"
   ]
  },
  {
   "cell_type": "code",
   "execution_count": 7,
   "metadata": {},
   "outputs": [],
   "source": [
    "model.backend.update_param('energy_cap_max', {'region1::solarPV1': 0.000027})\n",
    "model.backend.update_param('energy_cap_min', {'region1::solarPV1': 0.000027})\n",
    "model.backend.update_param('energy_cap_max', {'region1::battery1': 0.000276})\n",
    "model.backend.update_param('energy_cap_min', {'region1::battery1': 0.000276})\n",
    "model.backend.update_param('energy_cap_max', {'region2::solarPV2': 10321.864197})\n",
    "model.backend.update_param('energy_cap_min', {'region2::solarPV2': 10321.864197})\n",
    "model.backend.update_param('energy_cap_max', {'region2::battery2': 2355.664275})\n",
    "model.backend.update_param('energy_cap_min', {'region2::battery2': 2355.664275})\n",
    "model.backend.update_param('energy_cap_max', {'region1::ccgt': 1000.000000})\n",
    "model.backend.update_param('energy_cap_min', {'region1::ccgt': 1000.000000})"
   ]
  },
  {
   "cell_type": "code",
   "execution_count": 9,
   "metadata": {},
   "outputs": [],
   "source": [
    "model_6H.backend.update_param('energy_cap_max', {'region1::solarPV1': 1797.625891})\n",
    "model_6H.backend.update_param('energy_cap_min', {'region1::solarPV1': 1797.625891})\n",
    "model_6H.backend.update_param('energy_cap_max', {'region1::battery1': 0.000777})\n",
    "model_6H.backend.update_param('energy_cap_min', {'region1::battery1': 0.000777})\n",
    "model_6H.backend.update_param('energy_cap_max', {'region2::solarPV2': 11079.677565})\n",
    "model_6H.backend.update_param('energy_cap_min', {'region2::solarPV2': 11079.677565})\n",
    "model_6H.backend.update_param('energy_cap_max', {'region2::battery2': 4636.735890})\n",
    "model_6H.backend.update_param('energy_cap_min', {'region2::battery2': 4636.735890})\n",
    "model_6H.backend.update_param('energy_cap_max', {'region1::ccgt': 1000.999999})\n",
    "model_6H.backend.update_param('energy_cap_min', {'region1::ccgt': 1000.999999})"
   ]
  },
  {
   "cell_type": "code",
   "execution_count": 10,
   "metadata": {},
   "outputs": [],
   "source": [
    "rerun_model = model.backend.rerun()  # Rerun to capture updated backend parameters\n",
    "rerun_model_6H = model_6H.backend.rerun()"
   ]
  },
  {
   "cell_type": "code",
   "execution_count": 11,
   "metadata": {},
   "outputs": [
    {
     "name": "stdout",
     "output_type": "stream",
     "text": [
      "11303345.93\n"
     ]
    }
   ],
   "source": [
    "# Calculate the total cost, excluding emission costs\n",
    "cost_op = rerun_model.results.cost.to_series().dropna()\n",
    "initial_cost = round(cost_op.loc[~cost_op.index.map(str).str.contains('co2_emissions')].sum(), 2)\n",
    "\n",
    "# unmet = rerun_model.results.unmet_demand.to_series().dropna()\n",
    "# unmet_demand = round(unmet.sum() * 1, 2) #300 is the penalty for unmet demand\n",
    "\n",
    "total_cost = initial_cost #+ unmet_demand\n",
    "\n",
    "print(total_cost)"
   ]
  },
  {
   "cell_type": "code",
   "execution_count": 12,
   "metadata": {},
   "outputs": [
    {
     "name": "stdout",
     "output_type": "stream",
     "text": [
      "13525565.08\n"
     ]
    }
   ],
   "source": [
    "# Calculate the total cost, excluding emission costs\n",
    "cost_op = rerun_model_6H.results.cost.to_series().dropna()\n",
    "initial_cost = round(cost_op.loc[~cost_op.index.map(str).str.contains('co2_emissions')].sum(), 2)\n",
    "\n",
    "# unmet = rerun_model_6H.results.unmet_demand.to_series().dropna()\n",
    "# unmet_demand = round(unmet.sum() * 1, 2) #300 is the penalty for unmet demand\n",
    "\n",
    "\n",
    "total_cost = initial_cost #+ unmet_demand\n",
    "\n",
    "print(total_cost)"
   ]
  }
 ],
 "metadata": {
  "kernelspec": {
   "display_name": "Python 3",
   "language": "python",
   "name": "python3"
  },
  "language_info": {
   "codemirror_mode": {
    "name": "ipython",
    "version": 3
   },
   "file_extension": ".py",
   "mimetype": "text/x-python",
   "name": "python",
   "nbconvert_exporter": "python",
   "pygments_lexer": "ipython3",
   "version": "3.9.19"
  }
 },
 "nbformat": 4,
 "nbformat_minor": 2
}
