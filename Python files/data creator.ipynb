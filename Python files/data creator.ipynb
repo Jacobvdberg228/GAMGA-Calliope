{
 "cells": [
  {
   "cell_type": "code",
   "execution_count": 10,
   "metadata": {},
   "outputs": [],
   "source": [
    "import pandas as pd\n",
    "\n",
    "# Start and End Dates\n",
    "start_time = '2005-01-01 00:00:00'\n",
    "end_time = '2005-12-31 23:59:59'\n",
    "\n",
    "# Generate 6-hour intervals for the entire year\n",
    "timestamps = pd.date_range(start=start_time, end=end_time, freq='6H')\n",
    "\n",
    "# Create DataFrame with All Timesteps\n",
    "df = pd.DataFrame({'index': timestamps})\n",
    "\n",
    "# Add a 'date' column to group by day\n",
    "df['date'] = df['index'].dt.date  # Extract day for grouping\n",
    "\n",
    "# Assign sequential cluster IDs per day\n",
    "df_daily = df[['date']].drop_duplicates().reset_index(drop=True)\n",
    "df_daily['clusters'] = range(len(df_daily))  # Sequential cluster IDs (0, 1, 2, ...)\n",
    "\n",
    "# Map Daily Clusters back to Timesteps\n",
    "df = df.merge(df_daily, on='date', how='left')\n",
    "\n",
    "# Format 'index' column to match expected Calliope format\n",
    "df['index'] = df['index'].dt.strftime('%Y-%m-%d %H:%M:%S')\n",
    "\n",
    "# Drop the 'date' column (not needed in the final CSV)\n",
    "df = df.drop(columns=['date'])\n",
    "\n",
    "# Save the DataFrame to CSV\n",
    "df.to_csv('clusters-sequential.csv', index=False)\n",
    "\n",
    "\n"
   ]
  },
  {
   "cell_type": "code",
   "execution_count": 9,
   "metadata": {},
   "outputs": [],
   "source": [
    "import pandas as pd\n",
    "\n",
    "# Start and End Dates\n",
    "start_time = '2005-01-01 00:00:00'\n",
    "end_time = '2005-12-31 23:59:59'\n",
    "\n",
    "# Generate 6-hour intervals for the entire year\n",
    "timestamps = pd.date_range(start=start_time, end=end_time, freq='6H')\n",
    "\n",
    "# Create DataFrame with All Timesteps\n",
    "df = pd.DataFrame({'index': timestamps})\n",
    "df['date'] = df['index'].dt.date  # Extract day for grouping\n",
    "\n",
    "# Specify days to exclude (example: weekends or custom list)\n",
    "# Example: Exclude weekends (Saturday and Sunday)\n",
    "df['weekday'] = df['index'].dt.weekday  # 0=Monday, 6=Sunday\n",
    "days_to_exclude = df[df['weekday'] >= 5]['date'].unique()  # Exclude Saturdays (5) and Sundays (6)\n",
    "\n",
    "# Remove excluded days\n",
    "df = df[~df['date'].isin(days_to_exclude)]\n",
    "\n",
    "# Reassign Sequential Cluster IDs to Remaining Days\n",
    "df_daily = df[['date']].drop_duplicates().reset_index(drop=True)\n",
    "df_daily['clusters'] = range(len(df_daily))  # Sequential Cluster IDs\n",
    "\n",
    "# Map Daily Clusters back to Timesteps\n",
    "df = df.merge(df_daily, on='date', how='left')\n",
    "\n",
    "# Format 'index' column to match Calliope expectations\n",
    "df['index'] = df['index'].dt.strftime('%Y-%m-%d %H:%M:%S')\n",
    "\n",
    "# Drop unnecessary columns\n",
    "df = df.drop(columns=['date', 'weekday'])\n",
    "\n",
    "# Save to CSV\n",
    "df.to_csv('clusters-excluded_days.csv', index=False)\n"
   ]
  }
 ],
 "metadata": {
  "kernelspec": {
   "display_name": "Python 3",
   "language": "python",
   "name": "python3"
  },
  "language_info": {
   "codemirror_mode": {
    "name": "ipython",
    "version": 3
   },
   "file_extension": ".py",
   "mimetype": "text/x-python",
   "name": "python",
   "nbconvert_exporter": "python",
   "pygments_lexer": "ipython3",
   "version": "3.9.21"
  }
 },
 "nbformat": 4,
 "nbformat_minor": 2
}
