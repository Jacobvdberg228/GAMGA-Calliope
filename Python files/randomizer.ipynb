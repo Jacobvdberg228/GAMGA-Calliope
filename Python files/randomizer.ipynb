{
 "cells": [
  {
   "cell_type": "code",
   "execution_count": 138,
   "metadata": {},
   "outputs": [],
   "source": [
    "import random\n",
    "import numpy as np\n",
    "import math\n",
    "\n",
    "from deap import base\n",
    "from deap import creator\n",
    "from deap import tools\n"
   ]
  },
  {
   "cell_type": "code",
   "execution_count": 139,
   "metadata": {},
   "outputs": [],
   "source": [
    "initial_capacities = np.array([5.68666880e-07, 6.88501432e-07, 0.00000000e+00])\n",
    "low_up_bound = [[0.0, 3.6682175918108224], [0.0, 0.19766913955695925], [0.0, 0.0]]\n",
    "\n",
    "# initial_capacities = np.array([100, 200, 300])\n",
    "# low_up_bound = [[0.0, 150], [0.0, 250], [0.0, 350]]\n",
    "\n"
   ]
  },
  {
   "cell_type": "code",
   "execution_count": 140,
   "metadata": {},
   "outputs": [],
   "source": [
    "def centroidSP(subpop):\n",
    "    centroids = []\n",
    "\n",
    "    # Iterate over each subpopulation and calculate the centroid\n",
    "    for sub in subpop.values():\n",
    "        if not isinstance(sub, list) or not all(isinstance(individual, list) for individual in sub):\n",
    "            raise TypeError(\"Each subpopulation must be a list of lists (individuals).\")\n",
    "        \n",
    "        num_solutions = len(sub)  # Number of solutions in the current subpopulation\n",
    "        num_variables = len(sub[0])  # Number of decision variables\n",
    "        \n",
    "        # Calculate the centroid for each decision variable\n",
    "        centroid = [sum(solution[i] for solution in sub) / num_solutions for i in range(num_variables)]\n",
    "        centroids.append(centroid)  # Append each centroid to the main list in the required format\n",
    "    \n",
    "    return centroids\n",
    "\n",
    "def fitness(subpop, centroids):\n",
    "    distances = []\n",
    "    minimal_distances = []\n",
    "    fitness_SP = {}\n",
    "\n",
    "    # Step 1: Calculate Euclidean Distances for each individual\n",
    "    for q, (subpop_index, subpopulation) in enumerate(subpop.items()):\n",
    "        subpopulation_distances = []\n",
    "        \n",
    "        for individual in subpopulation:\n",
    "            individual_distances = []\n",
    "            \n",
    "            for p, centroid in enumerate(centroids):\n",
    "                if p != q:  # Skip the centroid of the same subpopulation\n",
    "                    # Calculate Euclidean distance\n",
    "                    distance = math.sqrt(sum((individual[i] - centroid[i])**2 for i in range(len(individual))))\n",
    "                    individual_distances.append(distance)\n",
    "            \n",
    "            subpopulation_distances.append(individual_distances)\n",
    "        \n",
    "        distances.append(subpopulation_distances)\n",
    "\n",
    "    # Step 2: Calculate Minimal Distances\n",
    "    for subpopulation_distances in distances:\n",
    "        subpopulation_minimal = [min(individual_distances) for individual_distances in subpopulation_distances]\n",
    "        minimal_distances.append(subpopulation_minimal)\n",
    "\n",
    "    # Step 3: Calculate Fitness SP for each individual\n",
    "    for sp_index, subpopulation in enumerate(minimal_distances, start=1):\n",
    "        fitness_values = [(min_distance,) for min_distance in subpopulation]\n",
    "        fitness_SP[sp_index] = fitness_values\n",
    "\n",
    "    return fitness_SP"
   ]
  },
  {
   "cell_type": "code",
   "execution_count": 141,
   "metadata": {},
   "outputs": [
    {
     "name": "stderr",
     "output_type": "stream",
     "text": [
      "c:\\Users\\Jacob\\miniconda3\\envs\\calliope\\lib\\site-packages\\deap\\creator.py:185: RuntimeWarning: A class named 'FitnessMaxDist' has already been created and it will be overwritten. Consider deleting previous creation of that class or rename it.\n",
      "  warnings.warn(\"A class named '{0}' has already been created and it \"\n",
      "c:\\Users\\Jacob\\miniconda3\\envs\\calliope\\lib\\site-packages\\deap\\creator.py:185: RuntimeWarning: A class named 'IndividualSP' has already been created and it will be overwritten. Consider deleting previous creation of that class or rename it.\n",
      "  warnings.warn(\"A class named '{0}' has already been created and it \"\n"
     ]
    }
   ],
   "source": [
    "creator.create(\"FitnessMaxDist\", base.Fitness, weights=(1.0,))  # Fitness to maximize distinctiveness\n",
    "creator.create(\"IndividualSP\", list, fitness=creator.FitnessMaxDist, cost=0)  # Individual structure in DEAP\n",
    "\n",
    "def generate_individual():\n",
    "    adjusted_individual = []\n",
    "    \n",
    "    for cap, (low, up) in zip(initial_capacities, low_up_bound):\n",
    "        if cap == 0:\n",
    "            # If capacity is zero, set it initially to 1% of the upper bound\n",
    "            new_value = 0.01 * up\n",
    "        else:\n",
    "            # Adjust by a random value between -0.1 and 0.1 of the current value\n",
    "            adjustment = random.uniform(-0.1, 0.1)\n",
    "            new_value = cap * (1 + adjustment)\n",
    "        \n",
    "        # Ensure the new value is within the lower and upper bounds\n",
    "        new_value = max(low, min(up, new_value))\n",
    "        adjusted_individual.append(new_value)\n",
    "    \n",
    "    return adjusted_individual\n",
    "\n",
    "# DEAP toolbox setup\n",
    "toolbox = base.Toolbox()\n",
    "\n",
    "# Register the individual and subpopulation initializers\n",
    "toolbox.register(\"individualSP\", tools.initIterate, creator.IndividualSP, generate_individual)\n",
    "toolbox.register(\"subpopulationSP\", tools.initRepeat, list, toolbox.individualSP)"
   ]
  },
  {
   "cell_type": "code",
   "execution_count": 142,
   "metadata": {},
   "outputs": [
    {
     "name": "stdout",
     "output_type": "stream",
     "text": [
      "{1: [[5.238702665677014e-07, 6.984733852418476e-07, 0.0], [6.212133114083466e-07, 7.34855751922312e-07, 0.0]], 2: [[5.235532686017177e-07, 6.296498914693117e-07, 0.0], [5.902718342479442e-07, 7.356252369627608e-07, 0.0]]}\n"
     ]
    }
   ],
   "source": [
    "# Generate subpopulations with multiple individuals\n",
    "subpops_unaltered = [toolbox.subpopulationSP(n=2) for _ in range(2)]\n",
    "\n",
    "subpops_SP = {}\n",
    "\n",
    "for p in range(2):\n",
    "    subpops_SP[p+1] = subpops_unaltered[p]\n",
    "\n",
    "print(subpops_SP)"
   ]
  },
  {
   "cell_type": "code",
   "execution_count": 134,
   "metadata": {},
   "outputs": [],
   "source": [
    "subpops_SP = {1: [[3, 6, 8], [4, 8, 2], [2, 6, 4]], 2: [[4, 9, 2], [3, 6, 9], [1, 4, 0]], 3:[[2, 7, 4], [8, 2, 4], [7, 2, 0]]}"
   ]
  },
  {
   "cell_type": "code",
   "execution_count": 143,
   "metadata": {},
   "outputs": [],
   "source": [
    "#calculate centroids and fitness\n",
    "centroids = centroidSP(subpops_SP)\n",
    "fitness_populations = fitness(subpops_SP, centroids)"
   ]
  },
  {
   "cell_type": "code",
   "execution_count": 144,
   "metadata": {},
   "outputs": [
    {
     "name": "stdout",
     "output_type": "stream",
     "text": [
      "[[5.72541788988024e-07, 7.166645685820798e-07, 0.0], [5.56912551424831e-07, 6.826375642160363e-07, 0.0]]\n",
      "{1: [(3.664104005266801e-08,), (8.28331265967036e-08,)], 2: [(9.985704363077665e-08,), (2.595884146800418e-08,)]}\n"
     ]
    }
   ],
   "source": [
    "print(centroids)\n",
    "print(fitness_populations)"
   ]
  }
 ],
 "metadata": {
  "kernelspec": {
   "display_name": "Python 3",
   "language": "python",
   "name": "python3"
  },
  "language_info": {
   "codemirror_mode": {
    "name": "ipython",
    "version": 3
   },
   "file_extension": ".py",
   "mimetype": "text/x-python",
   "name": "python",
   "nbconvert_exporter": "python",
   "pygments_lexer": "ipython3",
   "version": "3.9.21"
  }
 },
 "nbformat": 4,
 "nbformat_minor": 2
}
