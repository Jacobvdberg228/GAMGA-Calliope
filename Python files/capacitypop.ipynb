{
 "cells": [
  {
   "cell_type": "code",
   "execution_count": 60,
   "metadata": {},
   "outputs": [],
   "source": [
    "import pandas as pd\n",
    "import xarray as xr\n",
    "import numpy as np\n",
    "\n",
    "import random\n",
    "import warnings\n",
    "\n",
    "\n",
    "import calliope\n",
    "from calliope.exceptions import ModelWarning\n",
    "\n",
    "# Suppress the specific ModelWarning from Calliope\n",
    "warnings.filterwarnings(\"ignore\", category=ModelWarning)\n",
    "\n",
    "from deap import base\n",
    "from deap import creator\n",
    "from deap import tools"
   ]
  },
  {
   "cell_type": "code",
   "execution_count": 69,
   "metadata": {},
   "outputs": [
    {
     "name": "stderr",
     "output_type": "stream",
     "text": [
      "c:\\Users\\Jacob\\miniconda3\\envs\\calliope\\lib\\site-packages\\sklearn\\cluster\\_kmeans.py:1382: UserWarning:\n",
      "\n",
      "KMeans is known to have a memory leak on Windows with MKL, when there are less chunks than available threads. You can avoid it by setting the environment variable OMP_NUM_THREADS=2.\n",
      "\n"
     ]
    },
    {
     "name": "stdout",
     "output_type": "stream",
     "text": [
      "loc_techs\n",
      "region2::solarPV    7886.408026\n",
      "region2::battery    3017.357403\n",
      "region1::solarPV    2865.188158\n",
      "region1::ccgt       4999.915739\n",
      "region1::battery       9.021193\n",
      "dtype: float64\n"
     ]
    }
   ],
   "source": [
    "initial_cap =  [4999.999988, 2019.286486, 3427.703196, 2750.418696, 0.003076]\n",
    "\n",
    "cap_limit = [[0.0, 5000.0], [0.0, 50000.0], [0.0, 50000.0], [0.0, 50000.0], [0.0, 50000.0]]\n",
    "\n",
    "model = calliope.Model('C:/Users/Jacob/Desktop/PythonProjects/Calliope with miniforge3/GAMGA-Calliope v3.9/GAMGA_model/model.yaml')\n",
    "\n",
    "model.run()\n",
    "\n",
    "df_total_cost = model.results.cost.to_series().dropna()\n",
    "total_cost_optimal = df_total_cost.loc[~df_total_cost.index.map(str).str.contains('co2_emissions')].sum()\n",
    "\n",
    "energy_cap_df = model.results.energy_cap.to_pandas()\n",
    "filtered_energy_cap_df = energy_cap_df[~energy_cap_df.index.str.contains(\"demand|transmission\")]\n",
    "\n",
    "print(filtered_energy_cap_df)\n",
    "\n",
    "updates = [\n",
    "    {'tech': tech, 'loc': loc}\n",
    "    for loc_tech in filtered_energy_cap_df.index\n",
    "    for loc, tech in [loc_tech.split(\"::\")]  # Split index by '::' to separate loc and tech\n",
    "]"
   ]
  },
  {
   "cell_type": "code",
   "execution_count": 70,
   "metadata": {},
   "outputs": [],
   "source": [
    "total_cost_optimal\n",
    "\n",
    "optimal_value = total_cost_optimal\n",
    "\n",
    "max_slack = 0.5"
   ]
  },
  {
   "cell_type": "code",
   "execution_count": null,
   "metadata": {},
   "outputs": [],
   "source": [
    "def update_energy_cap_max_for_individual(model, updates, individual_values):\n",
    "    \n",
    "    # Ensure the length of updates matches the individual's values\n",
    "    if len(updates) != len(individual_values):\n",
    "        raise ValueError(\"Length of updates and individual values must match.\")\n",
    "    \n",
    "    # Update the model with the individual's capacity values\n",
    "    for update, new_cap in zip(updates, individual_values):\n",
    "        tech = update['tech']\n",
    "        loc = update['loc']\n",
    "        \n",
    "        # Construct the location::technology key and update the model\n",
    "        loc_tech_key = f\"{loc}::{tech}\"\n",
    "        model.backend.update_param('energy_cap_max', {loc_tech_key: new_cap})\n",
    "        model.backend.update_param('energy_cap_min', {loc_tech_key: new_cap})\n",
    "    \n",
    "    # Run the model for this individual\n",
    "    try:\n",
    "        rerun_model = model.backend.rerun()  # Rerun to capture updated backend parameters\n",
    "\n",
    "        # Calculate the total cost, excluding emission costs\n",
    "        df_total_cost = rerun_model.results.cost.to_series().dropna()\n",
    "        total_cost = round(df_total_cost.loc[~df_total_cost.index.map(str).str.contains('co2_emissions')].sum(), 2)\n",
    "\n",
    "    except Exception as e:\n",
    "        # If solving fails, set total cost to NaN and print a warning\n",
    "        total_cost = float('inf')\n",
    "        print(\"Warning: Model could not be solved for the individual. Assigning cost as infinite.\")\n",
    "    \n",
    "    return total_cost\n",
    "\n",
    "def slack_feasibility(individual):\n",
    "    cost = update_energy_cap_max_for_individual(model, updates, individual)\n",
    "    slack_distance = (cost - optimal_value) / optimal_value\n",
    "\n",
    "    # Update feasibility condition based on the new criteria\n",
    "    feasible = slack_distance <= max_slack and cost >= optimal_value\n",
    "\n",
    "    print(f\"Slack feasibility for individual: {feasible}, Cost: {cost}\")\n",
    "    \n",
    "    return feasible "
   ]
  }
 ],
 "metadata": {
  "kernelspec": {
   "display_name": "Python 3",
   "language": "python",
   "name": "python3"
  },
  "language_info": {
   "codemirror_mode": {
    "name": "ipython",
    "version": 3
   },
   "file_extension": ".py",
   "mimetype": "text/x-python",
   "name": "python",
   "nbconvert_exporter": "python",
   "pygments_lexer": "ipython3",
   "version": "3.9.19"
  }
 },
 "nbformat": 4,
 "nbformat_minor": 2
}
